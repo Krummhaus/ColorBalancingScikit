{
 "cells": [
  {
   "cell_type": "code",
   "execution_count": 1,
   "id": "interstate-teacher",
   "metadata": {},
   "outputs": [],
   "source": [
    "from IPython import get_ipython\n",
    "import matplotlib.pyplot as plt\n",
    "from matplotlib.colors import to_rgba_array, Normalize\n",
    "from sklearn.mixture import GaussianMixture\n",
    "from sklearn.cluster import Birch\n",
    "from skimage.transform import resize\n",
    "from skimage.io import imread, imshow, imsave\n",
    "from skimage.color import rgb2hsv, hsv2rgb\n",
    "from skimage import exposure, img_as_ubyte, img_as_float\n",
    "import numpy as np\n",
    "from pathlib import Path\n",
    "import os"
   ]
  },
  {
   "cell_type": "code",
   "execution_count": 2,
   "id": "0e5f5593-9f1b-4ab5-97ac-fc0c885f023f",
   "metadata": {
    "tags": []
   },
   "outputs": [],
   "source": [
    "# HELPER FUNCTIONS\n",
    "\n",
    "# File lister:\n",
    "def file_lister(folder, suffix='jpg'):\n",
    "    '''List files in folder derived from current work dir.\n",
    "    listing files with specified suffix in subfolders \n",
    "    derived from current work dir or inside current work dir.\n",
    "    Args:\n",
    "    ---\n",
    "        folder: string, name of subfolder to find in if you\n",
    "                need listing in current dir, just type '.' as\n",
    "                folder.\n",
    "        suffix: string, suffix of files, like 'jpg', 'png' etc.\n",
    "    '''\n",
    "    basepath = Path(os.getcwd())\n",
    "    pics_list= list(basepath.glob(f'{folder}/*.{suffix}'))\n",
    "    return pics_list\n",
    "\n",
    "\n",
    "# Load image as array\n",
    "def load_im(path, as_float=False, plugin=None):\n",
    "    '''Loads image as array.\n",
    "\n",
    "    takes a string or path-like object and loads image using\n",
    "    skimage.io.imread into array (like numpy array).\n",
    "\n",
    "    Args:\n",
    "    ---\n",
    "        path: string or path-like object,. path to image.\n",
    "        as_float: if True, retturns image as float array\n",
    "        plugin: can be GDAL, PIL ... GDAL -> good for GeoTIFF\n",
    "                default is None.\n",
    "    '''\n",
    "    if as_float == True:\n",
    "        im = imread(path, plugin)\n",
    "        im = img_as_float(im)\n",
    "        return im\n",
    "    else:\n",
    "        im = imread(path, plugin)\n",
    "        return im\n",
    "\n",
    "def split_bands(im):\n",
    "    band_list = []\n",
    "    n_bands = im.shape[-1]\n",
    "    for band in range(n_bands):\n",
    "        single_band = im[:, :, band]\n",
    "        band_list.append(single_band)\n",
    "    return band_list\n",
    "        \n",
    "    \n",
    "# Resize image by factor\n",
    "def im_resize(im, fact):\n",
    "    '''Resizes image by factor.\n",
    "\n",
    "    takes numpy array IMAGE and resizes it by given factor.\n",
    "\n",
    "    Args:\n",
    "    ---\n",
    "        im: image as numpy array.\n",
    "        fact: integer number as a factor for floor division of image.\n",
    "    '''\n",
    "    im = resize(im,\n",
    "    (im.shape[0] // fact, im.shape[1] // fact),\n",
    "    anti_aliasing=True)\n",
    "    return im\n",
    "\n",
    "# Display palette colors\n",
    "def show_pal(pal):\n",
    "    fig, ax = plt.subplots()\n",
    "    ax.set_yticklabels([])\n",
    "    # ax.set_xticklabels([])\n",
    "    idxs = np.arange(len(pal)).reshape(3,int(len(pal)/3))\n",
    "    imshow(pal[idxs])\n",
    "    counter = 0\n",
    "    for i in range(3):\n",
    "        for j in range(int(len(pal)/3)):\n",
    "            ax.annotate(pal.tolist()[counter],(j,i), ha='center')\n",
    "            counter += 1\n",
    "\n",
    "# Save image array\n",
    "def save_im(name, arr, pal):\n",
    "    imsave(name, pal[arr])\n",
    "\n",
    "# Scikit-learn selected usupervised clutering\n",
    "def label_predict(im_arr, cls_type, nc, n_dim, cov_t='full'):\n",
    "    '''Performs selected clustering method and returns img array\n",
    "\n",
    "    takes image array(like-np.array) reshapes it to corretct shape\n",
    "    for scikit-clustering, makes computation and returns labels as\n",
    "    np.array with shape of input image.\n",
    "\n",
    "    Args:\n",
    "    ---\n",
    "        im_arr:  input image as numpy array\n",
    "        cls_type: 1 is GaussianMixture, 2 is Birch -- clusternig \n",
    "        nc: number of components/clusters\n",
    "        n_dim: dimension of input raster, usually int \"3\" for RGB image\n",
    "        cov_t: only for GaussianMixture,\n",
    "                covariance_type{‘full’, ‘tied’, ‘diag’, ‘spherical’}, default=’full’\n",
    "    '''\n",
    "    # preprocess image to coorect shape for clustering\n",
    "    x = im_arr.shape[0]\n",
    "    y = im_arr.shape[1]\n",
    "    im = im_arr.reshape(-1, n_dim)\n",
    "    # GaussianMixture\n",
    "    if cls_type == 1:\n",
    "        cls = GaussianMixture(n_components=nc, covariance_type=cov_t, random_state=0).fit(im)\n",
    "        lbl = cls.predict(im)\n",
    "        lbl = lbl.reshape(x, y)\n",
    "        return lbl\n",
    "    # Birch\n",
    "    elif cls_type == 2:\n",
    "        cls = Birch(n_clusters=nc).fit(im)\n",
    "        lbl = cls.predict(im)\n",
    "        lbl = lbl.reshape(x, y)\n",
    "        return lbl\n",
    "    else:\n",
    "        print('Something wrong happened with \"label_predict')\n",
    "        \n",
    "'''POLAR PLOT OF HSV PALETTE AND IMAGE'''\n",
    "def plot_polar_hsv(hsv_im, rgb_im, size=10):\n",
    "    # HSV color palette around circle\n",
    "    xval = np.arange(0, 2*np.pi, 0.01)\n",
    "    yval = np.ones_like(xval)\n",
    "    color_m = plt.get_cmap('hsv')\n",
    "    norm = Normalize(0.0, 2*np.pi)\n",
    "\n",
    "    # HSV image components reshape for X and Y axes\n",
    "    hsv_im_H = (hsv_im[:, :, 0]*2*np.pi).reshape(-1,1)\n",
    "    hsv_im_S = hsv_im[:, :, 1].reshape(-1,1)\n",
    "    hsv_im_V = hsv_im[:, :, 2].reshape(-1,1)\n",
    "    hsv_im_SV = np.sqrt(hsv_im_S*hsv_im_V)\n",
    "    # Create RGBA palete of HSV img-pixels\n",
    "    rgba = np.dstack((rgb_im, np.ones(rgb_im.shape[:-1])))\n",
    "    colormap = rgba.reshape(-1,4)\n",
    "\n",
    "    fig = plt.figure(figsize=(18,18))\n",
    "    ax1 = fig.add_subplot(231, projection='polar')\n",
    "    ax2 = fig.add_subplot(232, projection='polar')\n",
    "    ax3 = fig.add_subplot(233, projection='polar')\n",
    "    ax4 = fig.add_subplot(234)\n",
    "    ax5 = fig.add_subplot(235)\n",
    "    ax6 = fig.add_subplot(236)\n",
    "    ax1.scatter(hsv_im_H, hsv_im_S, c=colormap, s=size, alpha=0.75, edgecolors=None )\n",
    "    ax1.scatter(xval, yval, c=xval, s=30, cmap=color_m, norm=norm, linewidths=0)\n",
    "    ax2.scatter(hsv_im_H, hsv_im_V, c=colormap, s=size, alpha=0.75, edgecolors=None )\n",
    "    ax2.scatter(xval, yval, c=xval, s=30, cmap=color_m, norm=norm, linewidths=0)\n",
    "    ax3.scatter(hsv_im_H, hsv_im_SV, c=colormap, s=size, alpha=0.75, edgecolors=None )\n",
    "    ax3.scatter(xval, yval, c=xval, s=30, cmap=color_m, norm=norm, linewidths=0)\n",
    "    ax4.scatter(hsv_im_H, hsv_im_S, c=colormap, s=size, alpha=0.75, edgecolors=None )\n",
    "    ax4.scatter(xval, yval, c=xval, s=30, cmap=color_m, norm=norm, linewidths=0)\n",
    "    ax5.scatter(hsv_im_H, hsv_im_V, c=colormap, s=size, alpha=0.75, edgecolors=None )\n",
    "    ax5.scatter(xval, yval, c=xval, s=30, cmap=color_m, norm=norm, linewidths=0)\n",
    "    ax5.set_yticks([])\n",
    "    ax6.scatter(hsv_im_H, hsv_im_SV, c=colormap, s=size, alpha=0.75, edgecolors=None )\n",
    "    ax6.scatter(xval, yval, c=xval, s=30, cmap=color_m, norm=norm, linewidths=0)\n",
    "    ax6.set_yticks([])\n",
    "    plt.show()\n",
    "    \n",
    "def plot_samples(pics, rows=3,cols=4, offset=0, fig_x=16, fig_y=9):\n",
    "    offset = offset\n",
    "    rows, cols = rows, cols\n",
    "    f, ax = plt.subplots(rows, cols,figsize=(fig_x,fig_y)) \n",
    "    count = 0\n",
    "    for row in range(rows):\n",
    "        for col in range(cols):\n",
    "            pic_name = pics[count+offset].parts[-1]\n",
    "            img = imread(pics[count+offset])\n",
    "            ax[row, col].imshow(img)\n",
    "            ax[row, col].set_yticklabels([])\n",
    "            ax[row, col].set_xticklabels([])\n",
    "            ax[row, col].annotate(f'{pic_name} \\nIndex: {count}',\n",
    "                                  (0.1, 0.5), xycoords='axes fraction', va='center')\n",
    "            count += 1\n",
    "\n",
    "    plt.subplots_adjust(wspace=0, hspace=0.1)\n",
    "    plt.show()\n",
    "    \n",
    "def plot_hist(im):\n",
    "    if im.ndim > 2:\n",
    "        for color, chnl in zip('rgb', np.rollaxis(im, axis=-1)):\n",
    "            counts, bins_centers = exposure.histogram(chnl)\n",
    "            plt.plot(bins_centers, counts, color=color, alpha=0.5)\n",
    "    else:\n",
    "        counts, bins_centers = exposure.histogram(im)\n",
    "        plt.plot(bins_centers, counts, alpha=0.5)"
   ]
  },
  {
   "cell_type": "code",
   "execution_count": 3,
   "id": "26d8b5a8-ea0c-44f8-b0ba-14cde5ed4622",
   "metadata": {
    "tags": []
   },
   "outputs": [],
   "source": [
    "# VARIABLE ASIGN\n",
    "CO_PAL = np.array([\n",
    "    [188,  14,  65],# 0)  Cervena -  nesplane budovy \n",
    "    [243, 149, 174],# 1)  Ruzova - vinohrady\n",
    "    [237, 206,  65],# 2)  Zluta - spalne budovy\n",
    "    [  0,   0,   0],# 3)  Cerna - hranice parcel, cisla parcel,popisy\n",
    "    [109,  91,  92],# 4)  Tmavohneda - lesy\n",
    "    [242, 216, 193],# 5)  Okrova - pole\n",
    "    [ 49, 131, 103],# 6)  Syta zelena - parky, zahrady\n",
    "    [133, 200, 155],# 7)  Zelena - louky\n",
    "    [192, 224, 187],# 8)  Svetla zelena - pastviny\n",
    "    [243, 248, 245],# 9)  Bila - verejna prost., neobd. puda, nadvori\n",
    "    [196, 176, 165],# 10) Hneda - cesty\n",
    "    [187, 234, 254]#  11) Modra - vodni plochy \n",
    "])\n",
    "\n",
    "IMG_IDX = 4 # index of image to work with from file_lister\n",
    "RESC_FACT = 30 # rescale factor for image array rescale\n",
    "N_CLUST = 12 # nuber of clusters for clustering\n",
    "N_CHNLS = 3 # nuber of image chanells"
   ]
  },
  {
   "cell_type": "code",
   "execution_count": 4,
   "id": "7a013e3c-4ebf-420a-8413-462c3d078c61",
   "metadata": {},
   "outputs": [],
   "source": [
    "# LISTING IMAGES IN SUBFOLDERS\n",
    "all_imgs = file_lister('cb_then_wb') # images contrast and white balanced in GIMP\n",
    "oall_imgs = file_lister('samples') # original images"
   ]
  },
  {
   "cell_type": "code",
   "execution_count": null,
   "id": "1513db58-ed12-45ae-9de5-4e47aa15ece2",
   "metadata": {},
   "outputs": [],
   "source": [
    "# PREVIEW OF 12 BALANCED SAMPLES\n",
    "plot_samples(all_imgs)"
   ]
  },
  {
   "cell_type": "code",
   "execution_count": null,
   "id": "4b554b49-e63e-43dd-9f5e-2d820d5375af",
   "metadata": {},
   "outputs": [],
   "source": [
    "# PREVIEW OF 12 ORIGINAL SAMPLES\n",
    "plot_samples(oall_imgs)"
   ]
  },
  {
   "cell_type": "code",
   "execution_count": null,
   "id": "ca024b64-8653-4896-86e4-33bd80e87152",
   "metadata": {},
   "outputs": [],
   "source": [
    "# PICK ONE IMG AND RESCALES IT\n",
    "bal_im = im_resize(load_im(all_imgs[IMG_IDX]), RESC_FACT) # one rescaled balanced image as array\n",
    "orig_im = im_resize(load_im(oall_imgs[IMG_IDX]), RESC_FACT)# one original image as array"
   ]
  },
  {
   "cell_type": "code",
   "execution_count": null,
   "id": "9cbba62f-d45c-42d7-95f4-84763f1a0f56",
   "metadata": {},
   "outputs": [],
   "source": [
    "# CONVERT IMAGE TO HSV-COLOR-SPACE\n",
    "bal_im_hsv = rgb2hsv(bal_im)\n",
    "orig_im_hsv = rgb2hsv(orig_im)"
   ]
  },
  {
   "cell_type": "code",
   "execution_count": null,
   "id": "c0532b93-d56c-4936-b01e-ee657d30cf84",
   "metadata": {},
   "outputs": [],
   "source": [
    "# SHOW BALANCED AND ORIGINAL IMAGE CHOSEN FOR SEGMENTATION\n",
    "# Figure\n",
    "fig = plt.figure(figsize=(9,18))\n",
    "# Axes\n",
    "ax1=fig.add_subplot(121)\n",
    "ax2=fig.add_subplot(122)\n",
    "ax1.imshow(bal_im)\n",
    "ax2.imshow(orig_im)\n"
   ]
  },
  {
   "cell_type": "code",
   "execution_count": null,
   "id": "a8648ef2-3d1a-4764-88a4-c3d55beb37ee",
   "metadata": {},
   "outputs": [],
   "source": [
    "# PLOT COLOR DISTRIBUTION OF BALANCED IMAGE\n",
    "plot_polar_hsv(bal_im_hsv, bal_im, 1)\n",
    "# --------------------------------------------------------------------------------------------------\n",
    "#                      HUE - colors around circle from 0 to 360 degrees\n",
    "#\n",
    "#       -- SATURATION --                        -- VALUE --                -- sqrt(SAT*VALUE) --"
   ]
  },
  {
   "cell_type": "code",
   "execution_count": null,
   "id": "fbf07275-4551-48ef-879b-b68a4f8c232e",
   "metadata": {},
   "outputs": [],
   "source": [
    "# PLOT COLOR DISTRIBUTION OF ORIGINAL IMAGE\n",
    "plot_polar_hsv(orig_im_hsv, orig_im, 1)\n",
    "# --------------------------------------------------------------------------------------------------\n",
    "#                      HUE - colors around circle from 0 to 360 degrees\n",
    "#\n",
    "#       -- SATURATION --                        -- VALUE --                -- sqrt(SAT*VALUE) --"
   ]
  },
  {
   "cell_type": "markdown",
   "id": "451f3ffa-7924-4e08-8346-6dc013ab90f5",
   "metadata": {},
   "source": [
    "TODO:\n",
    " - stretch histogram using scikit-image (not GIMP)\n",
    " - preproces image with bilateral filtering (smooth colors and preserves edges)\n",
    "   + PLS implement in OpenCV, skimage is very slow\n",
    " - test tresholding for segmentation\n",
    " - test different aproach to differ colors using combibnations of SATURATION and VALUE\n"
   ]
  },
  {
   "cell_type": "code",
   "execution_count": 5,
   "id": "10c1895c-4047-4ec9-9f1b-3ad12b62ffc0",
   "metadata": {
    "tags": []
   },
   "outputs": [],
   "source": [
    "rgb_ix4 = load_im(oall_imgs[4], True)"
   ]
  },
  {
   "cell_type": "code",
   "execution_count": null,
   "id": "d610bb73-8b9f-454e-954a-efe60febf5d7",
   "metadata": {},
   "outputs": [],
   "source": [
    "del rgb_ix4"
   ]
  },
  {
   "cell_type": "code",
   "execution_count": 6,
   "id": "e4522324-2403-469f-abd5-82aca3107968",
   "metadata": {},
   "outputs": [
    {
     "data": {
      "image/png": "[encoded data removed]",
      "text/plain": [
       "<Figure size 432x288 with 1 Axes>"
      ]
     },
     "metadata": {
      "needs_background": "light"
     },
     "output_type": "display_data"
    }
   ],
   "source": [
    "plot_hist(rgb_ix4)"
   ]
  },
  {
   "cell_type": "code",
   "execution_count": 7,
   "id": "816a42cd-f7fe-43c9-b65d-03f08a1465e6",
   "metadata": {},
   "outputs": [],
   "source": [
    "hsv_ix4 = rgb2hsv(rgb_ix4)\n",
    "H, S, V = split_bands(hsv_ix4)"
   ]
  },
  {
   "cell_type": "code",
   "execution_count": 8,
   "id": "498efe8f-162d-4753-bd59-e1b67982abfc",
   "metadata": {},
   "outputs": [
    {
     "data": {
      "image/png": "[encoded data removed]",
      "text/plain": [
       "<Figure size 432x288 with 1 Axes>"
      ]
     },
     "metadata": {
      "needs_background": "light"
     },
     "output_type": "display_data"
    }
   ],
   "source": [
    "plot_hist(V)"
   ]
  },
  {
   "cell_type": "code",
   "execution_count": 9,
   "id": "d0d27273-4ba5-452a-bfc8-3cb17a8213d2",
   "metadata": {
    "tags": []
   },
   "outputs": [
    {
     "data": {
      "image/png": "[encoded data removed]",
      "text/plain": [
       "<Figure size 432x288 with 1 Axes>"
      ]
     },
     "metadata": {
      "needs_background": "light"
     },
     "output_type": "display_data"
    }
   ],
   "source": [
    "V_eq = exposure.equalize_hist(V)\n",
    "plot_hist(V_eq)"
   ]
  },
  {
   "cell_type": "code",
   "execution_count": 10,
   "id": "69849170-895d-4081-abf3-f46f597bcd1d",
   "metadata": {},
   "outputs": [
    {
     "name": "stdout",
     "output_type": "stream",
     "text": [
      "Wall time: 1.05 s\n"
     ]
    }
   ],
   "source": [
    "%%time\n",
    "hsv_ix4_V_eq = np.dstack((H,S,V_eq))"
   ]
  },
  {
   "cell_type": "code",
   "execution_count": 11,
   "id": "017d4ac4-e90f-4e57-9a2c-e98ceaa2bba7",
   "metadata": {},
   "outputs": [
    {
     "name": "stdout",
     "output_type": "stream",
     "text": [
      "Wall time: 0 ns\n"
     ]
    },
    {
     "data": {
      "text/plain": [
       "(6892, 8477, 3)"
      ]
     },
     "execution_count": 11,
     "metadata": {},
     "output_type": "execute_result"
    }
   ],
   "source": [
    "%%time\n",
    "hsv_ix4_V_eq.shape\n"
   ]
  },
  {
   "cell_type": "code",
   "execution_count": null,
   "id": "1ec277f3-0a6b-4c02-9738-83d657d118cf",
   "metadata": {},
   "outputs": [],
   "source": []
  }
 ],
 "metadata": {
  "kernelspec": {
   "display_name": "Python 3",
   "language": "python",
   "name": "python3"
  },
  "language_info": {
   "codemirror_mode": {
    "name": "ipython",
    "version": 3
   },
   "file_extension": ".py",
   "mimetype": "text/x-python",
   "name": "python",
   "nbconvert_exporter": "python",
   "pygments_lexer": "ipython3",
   "version": "3.8.8"
  }
 },
 "nbformat": 4,
 "nbformat_minor": 5
}
